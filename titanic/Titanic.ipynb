{
 "cells": [
  {
   "cell_type": "code",
   "execution_count": 196,
   "metadata": {
    "collapsed": false
   },
   "outputs": [],
   "source": [
    "import pandas as pd\n",
    "import sklearn\n",
    "import numpy as np\n",
    "import matplotlib.pyplot as plt\n",
    "import seaborn as sns\n",
    "\n",
    "%matplotlib inline"
   ]
  },
  {
   "cell_type": "markdown",
   "metadata": {},
   "source": [
    "## Read in and split data"
   ]
  },
  {
   "cell_type": "code",
   "execution_count": 230,
   "metadata": {
    "collapsed": false
   },
   "outputs": [
    {
     "data": {
      "text/html": [
       "<div>\n",
       "<table border=\"1\" class=\"dataframe\">\n",
       "  <thead>\n",
       "    <tr style=\"text-align: right;\">\n",
       "      <th></th>\n",
       "      <th>PassengerId</th>\n",
       "      <th>Survived</th>\n",
       "      <th>Pclass</th>\n",
       "      <th>Name</th>\n",
       "      <th>Sex</th>\n",
       "      <th>Age</th>\n",
       "      <th>SibSp</th>\n",
       "      <th>Parch</th>\n",
       "      <th>Ticket</th>\n",
       "      <th>Fare</th>\n",
       "      <th>Cabin</th>\n",
       "      <th>Embarked</th>\n",
       "    </tr>\n",
       "  </thead>\n",
       "  <tbody>\n",
       "    <tr>\n",
       "      <th>0</th>\n",
       "      <td>1</td>\n",
       "      <td>0</td>\n",
       "      <td>3</td>\n",
       "      <td>Braund, Mr. Owen Harris</td>\n",
       "      <td>male</td>\n",
       "      <td>22.0</td>\n",
       "      <td>1</td>\n",
       "      <td>0</td>\n",
       "      <td>A/5 21171</td>\n",
       "      <td>7.2500</td>\n",
       "      <td>NaN</td>\n",
       "      <td>S</td>\n",
       "    </tr>\n",
       "    <tr>\n",
       "      <th>1</th>\n",
       "      <td>2</td>\n",
       "      <td>1</td>\n",
       "      <td>1</td>\n",
       "      <td>Cumings, Mrs. John Bradley (Florence Briggs Th...</td>\n",
       "      <td>female</td>\n",
       "      <td>38.0</td>\n",
       "      <td>1</td>\n",
       "      <td>0</td>\n",
       "      <td>PC 17599</td>\n",
       "      <td>71.2833</td>\n",
       "      <td>C85</td>\n",
       "      <td>C</td>\n",
       "    </tr>\n",
       "    <tr>\n",
       "      <th>2</th>\n",
       "      <td>3</td>\n",
       "      <td>1</td>\n",
       "      <td>3</td>\n",
       "      <td>Heikkinen, Miss. Laina</td>\n",
       "      <td>female</td>\n",
       "      <td>26.0</td>\n",
       "      <td>0</td>\n",
       "      <td>0</td>\n",
       "      <td>STON/O2. 3101282</td>\n",
       "      <td>7.9250</td>\n",
       "      <td>NaN</td>\n",
       "      <td>S</td>\n",
       "    </tr>\n",
       "    <tr>\n",
       "      <th>3</th>\n",
       "      <td>4</td>\n",
       "      <td>1</td>\n",
       "      <td>1</td>\n",
       "      <td>Futrelle, Mrs. Jacques Heath (Lily May Peel)</td>\n",
       "      <td>female</td>\n",
       "      <td>35.0</td>\n",
       "      <td>1</td>\n",
       "      <td>0</td>\n",
       "      <td>113803</td>\n",
       "      <td>53.1000</td>\n",
       "      <td>C123</td>\n",
       "      <td>S</td>\n",
       "    </tr>\n",
       "    <tr>\n",
       "      <th>4</th>\n",
       "      <td>5</td>\n",
       "      <td>0</td>\n",
       "      <td>3</td>\n",
       "      <td>Allen, Mr. William Henry</td>\n",
       "      <td>male</td>\n",
       "      <td>35.0</td>\n",
       "      <td>0</td>\n",
       "      <td>0</td>\n",
       "      <td>373450</td>\n",
       "      <td>8.0500</td>\n",
       "      <td>NaN</td>\n",
       "      <td>S</td>\n",
       "    </tr>\n",
       "  </tbody>\n",
       "</table>\n",
       "</div>"
      ],
      "text/plain": [
       "   PassengerId  Survived  Pclass  \\\n",
       "0            1         0       3   \n",
       "1            2         1       1   \n",
       "2            3         1       3   \n",
       "3            4         1       1   \n",
       "4            5         0       3   \n",
       "\n",
       "                                                Name     Sex   Age  SibSp  \\\n",
       "0                            Braund, Mr. Owen Harris    male  22.0      1   \n",
       "1  Cumings, Mrs. John Bradley (Florence Briggs Th...  female  38.0      1   \n",
       "2                             Heikkinen, Miss. Laina  female  26.0      0   \n",
       "3       Futrelle, Mrs. Jacques Heath (Lily May Peel)  female  35.0      1   \n",
       "4                           Allen, Mr. William Henry    male  35.0      0   \n",
       "\n",
       "   Parch            Ticket     Fare Cabin Embarked  \n",
       "0      0         A/5 21171   7.2500   NaN        S  \n",
       "1      0          PC 17599  71.2833   C85        C  \n",
       "2      0  STON/O2. 3101282   7.9250   NaN        S  \n",
       "3      0            113803  53.1000  C123        S  \n",
       "4      0            373450   8.0500   NaN        S  "
      ]
     },
     "execution_count": 230,
     "metadata": {},
     "output_type": "execute_result"
    }
   ],
   "source": [
    "train = pd.read_csv('data/train.csv')\n",
    "test = pd.read_csv('data/test.csv')\n",
    "train.head()"
   ]
  },
  {
   "cell_type": "code",
   "execution_count": 231,
   "metadata": {
    "collapsed": false
   },
   "outputs": [
    {
     "data": {
      "text/html": [
       "<div>\n",
       "<table border=\"1\" class=\"dataframe\">\n",
       "  <thead>\n",
       "    <tr style=\"text-align: right;\">\n",
       "      <th></th>\n",
       "      <th>Survived</th>\n",
       "      <th>Pclass</th>\n",
       "      <th>Sex</th>\n",
       "      <th>Age</th>\n",
       "      <th>SibSp</th>\n",
       "      <th>Parch</th>\n",
       "      <th>Fare</th>\n",
       "    </tr>\n",
       "  </thead>\n",
       "  <tbody>\n",
       "    <tr>\n",
       "      <th>0</th>\n",
       "      <td>0</td>\n",
       "      <td>3</td>\n",
       "      <td>1</td>\n",
       "      <td>22.0</td>\n",
       "      <td>1</td>\n",
       "      <td>0</td>\n",
       "      <td>7.2500</td>\n",
       "    </tr>\n",
       "    <tr>\n",
       "      <th>1</th>\n",
       "      <td>1</td>\n",
       "      <td>1</td>\n",
       "      <td>0</td>\n",
       "      <td>38.0</td>\n",
       "      <td>1</td>\n",
       "      <td>0</td>\n",
       "      <td>71.2833</td>\n",
       "    </tr>\n",
       "    <tr>\n",
       "      <th>2</th>\n",
       "      <td>1</td>\n",
       "      <td>3</td>\n",
       "      <td>0</td>\n",
       "      <td>26.0</td>\n",
       "      <td>0</td>\n",
       "      <td>0</td>\n",
       "      <td>7.9250</td>\n",
       "    </tr>\n",
       "    <tr>\n",
       "      <th>3</th>\n",
       "      <td>1</td>\n",
       "      <td>1</td>\n",
       "      <td>0</td>\n",
       "      <td>35.0</td>\n",
       "      <td>1</td>\n",
       "      <td>0</td>\n",
       "      <td>53.1000</td>\n",
       "    </tr>\n",
       "    <tr>\n",
       "      <th>4</th>\n",
       "      <td>0</td>\n",
       "      <td>3</td>\n",
       "      <td>1</td>\n",
       "      <td>35.0</td>\n",
       "      <td>0</td>\n",
       "      <td>0</td>\n",
       "      <td>8.0500</td>\n",
       "    </tr>\n",
       "  </tbody>\n",
       "</table>\n",
       "</div>"
      ],
      "text/plain": [
       "   Survived  Pclass  Sex   Age  SibSp  Parch     Fare\n",
       "0         0       3    1  22.0      1      0   7.2500\n",
       "1         1       1    0  38.0      1      0  71.2833\n",
       "2         1       3    0  26.0      0      0   7.9250\n",
       "3         1       1    0  35.0      1      0  53.1000\n",
       "4         0       3    1  35.0      0      0   8.0500"
      ]
     },
     "execution_count": 231,
     "metadata": {},
     "output_type": "execute_result"
    }
   ],
   "source": [
    "# Clean training data set\n",
    "train['Sex'] = train['Sex'].apply(lambda x: 1 if x == 'male' else 0)\n",
    "train = train.drop(['Name', 'Ticket', 'Cabin', 'Embarked', 'PassengerId'], axis=1)\n",
    "train.head()"
   ]
  },
  {
   "cell_type": "code",
   "execution_count": 232,
   "metadata": {
    "collapsed": false
   },
   "outputs": [
    {
     "data": {
      "text/html": [
       "<div>\n",
       "<table border=\"1\" class=\"dataframe\">\n",
       "  <thead>\n",
       "    <tr style=\"text-align: right;\">\n",
       "      <th></th>\n",
       "      <th>PassengerId</th>\n",
       "      <th>Pclass</th>\n",
       "      <th>Sex</th>\n",
       "      <th>Age</th>\n",
       "      <th>SibSp</th>\n",
       "      <th>Parch</th>\n",
       "      <th>Fare</th>\n",
       "    </tr>\n",
       "  </thead>\n",
       "  <tbody>\n",
       "    <tr>\n",
       "      <th>0</th>\n",
       "      <td>892</td>\n",
       "      <td>3</td>\n",
       "      <td>1</td>\n",
       "      <td>34.5</td>\n",
       "      <td>0</td>\n",
       "      <td>0</td>\n",
       "      <td>7.8292</td>\n",
       "    </tr>\n",
       "    <tr>\n",
       "      <th>1</th>\n",
       "      <td>893</td>\n",
       "      <td>3</td>\n",
       "      <td>0</td>\n",
       "      <td>47.0</td>\n",
       "      <td>1</td>\n",
       "      <td>0</td>\n",
       "      <td>7.0000</td>\n",
       "    </tr>\n",
       "    <tr>\n",
       "      <th>2</th>\n",
       "      <td>894</td>\n",
       "      <td>2</td>\n",
       "      <td>1</td>\n",
       "      <td>62.0</td>\n",
       "      <td>0</td>\n",
       "      <td>0</td>\n",
       "      <td>9.6875</td>\n",
       "    </tr>\n",
       "    <tr>\n",
       "      <th>3</th>\n",
       "      <td>895</td>\n",
       "      <td>3</td>\n",
       "      <td>1</td>\n",
       "      <td>27.0</td>\n",
       "      <td>0</td>\n",
       "      <td>0</td>\n",
       "      <td>8.6625</td>\n",
       "    </tr>\n",
       "    <tr>\n",
       "      <th>4</th>\n",
       "      <td>896</td>\n",
       "      <td>3</td>\n",
       "      <td>0</td>\n",
       "      <td>22.0</td>\n",
       "      <td>1</td>\n",
       "      <td>1</td>\n",
       "      <td>12.2875</td>\n",
       "    </tr>\n",
       "  </tbody>\n",
       "</table>\n",
       "</div>"
      ],
      "text/plain": [
       "   PassengerId  Pclass  Sex   Age  SibSp  Parch     Fare\n",
       "0          892       3    1  34.5      0      0   7.8292\n",
       "1          893       3    0  47.0      1      0   7.0000\n",
       "2          894       2    1  62.0      0      0   9.6875\n",
       "3          895       3    1  27.0      0      0   8.6625\n",
       "4          896       3    0  22.0      1      1  12.2875"
      ]
     },
     "execution_count": 232,
     "metadata": {},
     "output_type": "execute_result"
    }
   ],
   "source": [
    "# Clean test data set\n",
    "test['Sex'] = test['Sex'].apply(lambda x: 1 if x == 'male' else 0)\n",
    "test = test.drop(['Name', 'Ticket', 'Cabin', 'Embarked'], axis=1)\n",
    "test.head()"
   ]
  },
  {
   "cell_type": "markdown",
   "metadata": {
    "collapsed": true
   },
   "source": [
    "## Make XGB model and Tune parameters"
   ]
  },
  {
   "cell_type": "code",
   "execution_count": 203,
   "metadata": {
    "collapsed": false
   },
   "outputs": [],
   "source": [
    "import xgboost as xgb\n",
    "from xgboost.sklearn import XGBClassifier\n",
    "from sklearn import cross_validation, metrics   #Additional scklearn functions\n",
    "from sklearn.grid_search import GridSearchCV   #Perforing grid search\n",
    "\n",
    "def modelfit(alg, dtrain, predictors, target, useTrainCV=True, cv_folds=5, early_stopping_rounds=50):\n",
    "    '''\n",
    "    Parameters\n",
    "    ----------\n",
    "    alg: XGB sklearn model\n",
    "        The initialized XGB sklearn model\n",
    "    dtrain: pandas DataFrame\n",
    "        The pandas training data set\n",
    "    predictors: python List\n",
    "        List of labels for predcitions\n",
    "    target: python String\n",
    "        Target column name\n",
    "    useTrainCV: boolean\n",
    "        If cv, then True, else, False\n",
    "    cv_folds: int\n",
    "        Number of folds for cv\n",
    "    early_stopping_rounds: int\n",
    "        Number of rounds before stopping early\n",
    "        \n",
    "    Returns\n",
    "    -------\n",
    "    Prints  the accuracy, AUC score, and feature importance plot.\n",
    "    '''\n",
    "    \n",
    "    if useTrainCV:\n",
    "        xgb_param = alg.get_xgb_params()\n",
    "        xgtrain = xgb.DMatrix(dtrain[predictors].values, label=dtrain[target].values)\n",
    "        cvresult = xgb.cv(xgb_param, xgtrain, num_boost_round=alg.get_params()['n_estimators'], nfold=cv_folds,\n",
    "            metrics='auc', early_stopping_rounds=early_stopping_rounds)\n",
    "        alg.set_params(n_estimators=cvresult.shape[0])\n",
    "    \n",
    "    #Fit the algorithm on the data\n",
    "    alg.fit(dtrain[predictors], dtrain[target],eval_metric='auc')\n",
    "        \n",
    "    #Predict training set:\n",
    "    dtrain_predictions = alg.predict(dtrain[predictors])\n",
    "    dtrain_predprob = alg.predict_proba(dtrain[predictors])[:,1]\n",
    "        \n",
    "    #Print model report:\n",
    "    print \"\\nModel Report\"\n",
    "    print \"Accuracy : %.4g\" % metrics.accuracy_score(dtrain[target].values, dtrain_predictions)\n",
    "    print \"AUC Score (Train): %f\" % metrics.roc_auc_score(dtrain[target], dtrain_predprob)\n",
    "                    \n",
    "    feat_imp = pd.Series(alg.booster().get_fscore()).sort_values(ascending=False)\n",
    "    feat_imp.plot(kind='bar', title='Feature Importances')\n",
    "    plt.ylabel('Feature Importance Score')"
   ]
  },
  {
   "cell_type": "code",
   "execution_count": 211,
   "metadata": {
    "collapsed": false
   },
   "outputs": [
    {
     "name": "stdout",
     "output_type": "stream",
     "text": [
      "\n",
      "Model Report\n",
      "Accuracy : 0.9001\n",
      "AUC Score (Train): 0.958297\n"
     ]
    },
    {
     "data": {
      "image/png": "[encoded data removed]",
      "text/plain": [
       "<matplotlib.figure.Figure at 0x1121a8710>"
      ]
     },
     "metadata": {},
     "output_type": "display_data"
    }
   ],
   "source": [
    "target = 'Survived'\n",
    "predictors = [x for x in train.columns if x != target]\n",
    "xgb1 = XGBClassifier(\n",
    " learning_rate =0.1,\n",
    " n_estimators=1000,\n",
    " max_depth=5,\n",
    " min_child_weight=1,\n",
    " gamma=0,\n",
    " subsample=0.8,\n",
    " colsample_bytree=0.8,\n",
    " objective='binary:logistic',\n",
    " nthread=4,\n",
    " scale_pos_weight=1,\n",
    " seed=27)\n",
    "modelfit(xgb1, train, predictors, target)"
   ]
  },
  {
   "cell_type": "code",
   "execution_count": 218,
   "metadata": {
    "collapsed": false
   },
   "outputs": [
    {
     "data": {
      "text/plain": [
       "([mean: 0.50000, std: 0.00000, params: {'learning_rate': 0.0},\n",
       "  mean: 0.86661, std: 0.03473, params: {'learning_rate': 0.005},\n",
       "  mean: 0.86719, std: 0.03522, params: {'learning_rate': 0.01},\n",
       "  mean: 0.86892, std: 0.03512, params: {'learning_rate': 0.015},\n",
       "  mean: 0.86930, std: 0.03601, params: {'learning_rate': 0.02},\n",
       "  mean: 0.87105, std: 0.03601, params: {'learning_rate': 0.025},\n",
       "  mean: 0.87098, std: 0.03676, params: {'learning_rate': 0.03},\n",
       "  mean: 0.87102, std: 0.03679, params: {'learning_rate': 0.035},\n",
       "  mean: 0.87239, std: 0.03852, params: {'learning_rate': 0.04},\n",
       "  mean: 0.87278, std: 0.03729, params: {'learning_rate': 0.045},\n",
       "  mean: 0.87400, std: 0.03645, params: {'learning_rate': 0.05},\n",
       "  mean: 0.87354, std: 0.03604, params: {'learning_rate': 0.055},\n",
       "  mean: 0.87403, std: 0.03476, params: {'learning_rate': 0.06},\n",
       "  mean: 0.87423, std: 0.03430, params: {'learning_rate': 0.065},\n",
       "  mean: 0.87520, std: 0.03309, params: {'learning_rate': 0.07},\n",
       "  mean: 0.87501, std: 0.03289, params: {'learning_rate': 0.075},\n",
       "  mean: 0.87531, std: 0.03098, params: {'learning_rate': 0.08},\n",
       "  mean: 0.87573, std: 0.03519, params: {'learning_rate': 0.085},\n",
       "  mean: 0.87481, std: 0.03421, params: {'learning_rate': 0.09},\n",
       "  mean: 0.87464, std: 0.03198, params: {'learning_rate': 0.095},\n",
       "  mean: 0.87550, std: 0.03301, params: {'learning_rate': 0.1},\n",
       "  mean: 0.87383, std: 0.03215, params: {'learning_rate': 0.105},\n",
       "  mean: 0.87389, std: 0.03269, params: {'learning_rate': 0.11},\n",
       "  mean: 0.87310, std: 0.03166, params: {'learning_rate': 0.115},\n",
       "  mean: 0.87674, std: 0.03216, params: {'learning_rate': 0.12},\n",
       "  mean: 0.87054, std: 0.03109, params: {'learning_rate': 0.125},\n",
       "  mean: 0.87650, std: 0.03019, params: {'learning_rate': 0.13},\n",
       "  mean: 0.87384, std: 0.03171, params: {'learning_rate': 0.135},\n",
       "  mean: 0.87523, std: 0.02875, params: {'learning_rate': 0.14},\n",
       "  mean: 0.87299, std: 0.03199, params: {'learning_rate': 0.145},\n",
       "  mean: 0.87315, std: 0.02977, params: {'learning_rate': 0.15},\n",
       "  mean: 0.87414, std: 0.03032, params: {'learning_rate': 0.155},\n",
       "  mean: 0.87146, std: 0.03217, params: {'learning_rate': 0.16},\n",
       "  mean: 0.87019, std: 0.02992, params: {'learning_rate': 0.165},\n",
       "  mean: 0.86838, std: 0.02858, params: {'learning_rate': 0.17},\n",
       "  mean: 0.87196, std: 0.03080, params: {'learning_rate': 0.175},\n",
       "  mean: 0.87036, std: 0.03185, params: {'learning_rate': 0.18},\n",
       "  mean: 0.86830, std: 0.02760, params: {'learning_rate': 0.185},\n",
       "  mean: 0.86886, std: 0.02682, params: {'learning_rate': 0.19},\n",
       "  mean: 0.87018, std: 0.02931, params: {'learning_rate': 0.195}],\n",
       " {'learning_rate': 0.12},\n",
       " 0.8767370471414443)"
      ]
     },
     "execution_count": 218,
     "metadata": {},
     "output_type": "execute_result"
    }
   ],
   "source": [
    "param_test = {\n",
    " 'learning_rate': [x/1000.0 for x in range(0, 200, 5)],\n",
    "}\n",
    "gsearch = GridSearchCV(estimator=XGBClassifier(learning_rate=0.1, n_estimators=140, max_depth=5,\n",
    " min_child_weight=1, gamma=0, subsample=0.8, colsample_bytree=0.8,\n",
    " objective='binary:logistic', nthread=4, scale_pos_weight=1, seed=27), \n",
    " param_grid=param_test, scoring='roc_auc', iid=False, cv=5)\n",
    "gsearch.fit(train[predictors],train[target])\n",
    "gsearch.grid_scores_, gsearch.best_params_, gsearch.best_score_"
   ]
  },
  {
   "cell_type": "code",
   "execution_count": 219,
   "metadata": {
    "collapsed": false
   },
   "outputs": [
    {
     "data": {
      "text/plain": [
       "([mean: 0.87397, std: 0.03106, params: {'max_depth': 3, 'min_child_weight': 1},\n",
       "  mean: 0.86892, std: 0.02946, params: {'max_depth': 3, 'min_child_weight': 3},\n",
       "  mean: 0.87280, std: 0.02707, params: {'max_depth': 3, 'min_child_weight': 5},\n",
       "  mean: 0.87193, std: 0.02683, params: {'max_depth': 3, 'min_child_weight': 7},\n",
       "  mean: 0.86950, std: 0.02560, params: {'max_depth': 3, 'min_child_weight': 9},\n",
       "  mean: 0.87674, std: 0.03216, params: {'max_depth': 5, 'min_child_weight': 1},\n",
       "  mean: 0.87118, std: 0.02589, params: {'max_depth': 5, 'min_child_weight': 3},\n",
       "  mean: 0.87503, std: 0.02960, params: {'max_depth': 5, 'min_child_weight': 5},\n",
       "  mean: 0.87169, std: 0.02551, params: {'max_depth': 5, 'min_child_weight': 7},\n",
       "  mean: 0.87322, std: 0.02446, params: {'max_depth': 5, 'min_child_weight': 9},\n",
       "  mean: 0.87166, std: 0.03068, params: {'max_depth': 7, 'min_child_weight': 1},\n",
       "  mean: 0.87433, std: 0.02944, params: {'max_depth': 7, 'min_child_weight': 3},\n",
       "  mean: 0.87252, std: 0.02681, params: {'max_depth': 7, 'min_child_weight': 5},\n",
       "  mean: 0.87292, std: 0.02580, params: {'max_depth': 7, 'min_child_weight': 7},\n",
       "  mean: 0.87346, std: 0.02456, params: {'max_depth': 7, 'min_child_weight': 9},\n",
       "  mean: 0.86925, std: 0.02943, params: {'max_depth': 9, 'min_child_weight': 1},\n",
       "  mean: 0.87588, std: 0.02534, params: {'max_depth': 9, 'min_child_weight': 3},\n",
       "  mean: 0.87435, std: 0.02614, params: {'max_depth': 9, 'min_child_weight': 5},\n",
       "  mean: 0.87365, std: 0.02729, params: {'max_depth': 9, 'min_child_weight': 7},\n",
       "  mean: 0.87346, std: 0.02456, params: {'max_depth': 9, 'min_child_weight': 9}],\n",
       " {'max_depth': 5, 'min_child_weight': 1},\n",
       " 0.8767370471414443)"
      ]
     },
     "execution_count": 219,
     "metadata": {},
     "output_type": "execute_result"
    }
   ],
   "source": [
    "param_test1 = {\n",
    " 'max_depth': range(3,10,2),\n",
    " 'min_child_weight': range(1,10,2)\n",
    "}\n",
    "gsearch1 = GridSearchCV(estimator=XGBClassifier(learning_rate=0.12, n_estimators=140, max_depth=5,\n",
    " min_child_weight=1, gamma=0, subsample=0.8, colsample_bytree=0.8,\n",
    " objective='binary:logistic', nthread=4, scale_pos_weight=1, seed=27), \n",
    " param_grid=param_test1, scoring='roc_auc', iid=False, cv=5)\n",
    "gsearch1.fit(train[predictors],train[target])\n",
    "gsearch1.grid_scores_, gsearch1.best_params_, gsearch1.best_score_"
   ]
  },
  {
   "cell_type": "code",
   "execution_count": 220,
   "metadata": {
    "collapsed": false
   },
   "outputs": [
    {
     "data": {
      "text/plain": [
       "([mean: 0.87417, std: 0.03114, params: {'max_depth': 4, 'min_child_weight': 0},\n",
       "  mean: 0.87424, std: 0.03261, params: {'max_depth': 4, 'min_child_weight': 1},\n",
       "  mean: 0.87556, std: 0.02949, params: {'max_depth': 4, 'min_child_weight': 2},\n",
       "  mean: 0.87312, std: 0.03307, params: {'max_depth': 5, 'min_child_weight': 0},\n",
       "  mean: 0.87674, std: 0.03216, params: {'max_depth': 5, 'min_child_weight': 1},\n",
       "  mean: 0.87604, std: 0.02940, params: {'max_depth': 5, 'min_child_weight': 2},\n",
       "  mean: 0.87112, std: 0.03169, params: {'max_depth': 6, 'min_child_weight': 0},\n",
       "  mean: 0.87409, std: 0.02849, params: {'max_depth': 6, 'min_child_weight': 1},\n",
       "  mean: 0.87660, std: 0.02939, params: {'max_depth': 6, 'min_child_weight': 2}],\n",
       " {'max_depth': 5, 'min_child_weight': 1},\n",
       " 0.8767370471414443)"
      ]
     },
     "execution_count": 220,
     "metadata": {},
     "output_type": "execute_result"
    }
   ],
   "source": [
    "param_test2 = {\n",
    " 'max_depth': [4, 5, 6],\n",
    " 'min_child_weight': [0, 1, 2]\n",
    "}\n",
    "gsearch2 = GridSearchCV(estimator=XGBClassifier(learning_rate=0.12, n_estimators=140, max_depth=5,\n",
    " min_child_weight=1, gamma=0, subsample=0.8, colsample_bytree=0.8,\n",
    " objective='binary:logistic', nthread=4, scale_pos_weight=1, seed=27), \n",
    " param_grid=param_test2, scoring='roc_auc', iid=False, cv=5)\n",
    "gsearch2.fit(train[predictors],train[target])\n",
    "gsearch2.grid_scores_, gsearch2.best_params_, gsearch2.best_score_"
   ]
  },
  {
   "cell_type": "code",
   "execution_count": 160,
   "metadata": {
    "collapsed": false
   },
   "outputs": [
    {
     "data": {
      "text/plain": [
       "([mean: 0.87674, std: 0.03216, params: {'gamma': 0.0},\n",
       "  mean: 0.87341, std: 0.03075, params: {'gamma': 0.1},\n",
       "  mean: 0.87436, std: 0.03184, params: {'gamma': 0.2},\n",
       "  mean: 0.87569, std: 0.02981, params: {'gamma': 0.3},\n",
       "  mean: 0.87698, std: 0.03132, params: {'gamma': 0.4},\n",
       "  mean: 0.87833, std: 0.03182, params: {'gamma': 0.5},\n",
       "  mean: 0.87686, std: 0.03150, params: {'gamma': 0.6},\n",
       "  mean: 0.87642, std: 0.03152, params: {'gamma': 0.7},\n",
       "  mean: 0.87440, std: 0.02945, params: {'gamma': 0.8},\n",
       "  mean: 0.87654, std: 0.03193, params: {'gamma': 0.9}],\n",
       " {'gamma': 0.5},\n",
       " 0.878330462583554)"
      ]
     },
     "execution_count": 160,
     "metadata": {},
     "output_type": "execute_result"
    }
   ],
   "source": [
    "param_test3 = {\n",
    " 'gamma':[i/10.0 for i in range(0, 10)]\n",
    "}\n",
    "gsearch3 = GridSearchCV(estimator=XGBClassifier(learning_rate=0.12, n_estimators=140, max_depth=5,\n",
    " min_child_weight=1, gamma=0, subsample=0.8, colsample_bytree=0.8,\n",
    " objective='binary:logistic', nthread=4, scale_pos_weight=1, seed=27), \n",
    " param_grid=param_test3, scoring='roc_auc', iid=False, cv=5)\n",
    "gsearch3.fit(train[predictors],train[target])\n",
    "gsearch3.grid_scores_, gsearch3.best_params_, gsearch3.best_score_"
   ]
  },
  {
   "cell_type": "code",
   "execution_count": 221,
   "metadata": {
    "collapsed": false
   },
   "outputs": [
    {
     "name": "stdout",
     "output_type": "stream",
     "text": [
      "\n",
      "Model Report\n",
      "Accuracy : 0.9012\n",
      "AUC Score (Train): 0.960486\n"
     ]
    },
    {
     "data": {
      "image/png": "[encoded data removed]",
      "text/plain": [
       "<matplotlib.figure.Figure at 0x111dd81d0>"
      ]
     },
     "metadata": {},
     "output_type": "display_data"
    }
   ],
   "source": [
    "xgb2 = XGBClassifier(\n",
    " learning_rate=0.12,\n",
    " n_estimators=1000,\n",
    " max_depth=5,\n",
    " min_child_weight=1,\n",
    " gamma=0.5,\n",
    " subsample=0.8,\n",
    " colsample_bytree=0.8,\n",
    " objective='binary:logistic',\n",
    " nthread=4,\n",
    " scale_pos_weight=1,\n",
    " seed=27)\n",
    "modelfit(xgb2, train, predictors, target)"
   ]
  },
  {
   "cell_type": "code",
   "execution_count": 222,
   "metadata": {
    "collapsed": false
   },
   "outputs": [
    {
     "data": {
      "text/plain": [
       "([mean: 0.85647, std: 0.02353, params: {'subsample': 0.1, 'colsample_bytree': 0.5},\n",
       "  mean: 0.86891, std: 0.02610, params: {'subsample': 0.2, 'colsample_bytree': 0.5},\n",
       "  mean: 0.86844, std: 0.02592, params: {'subsample': 0.3, 'colsample_bytree': 0.5},\n",
       "  mean: 0.87263, std: 0.02797, params: {'subsample': 0.4, 'colsample_bytree': 0.5},\n",
       "  mean: 0.87513, std: 0.02792, params: {'subsample': 0.5, 'colsample_bytree': 0.5},\n",
       "  mean: 0.87218, std: 0.02599, params: {'subsample': 0.6, 'colsample_bytree': 0.5},\n",
       "  mean: 0.87581, std: 0.02970, params: {'subsample': 0.7, 'colsample_bytree': 0.5},\n",
       "  mean: 0.87663, std: 0.03270, params: {'subsample': 0.8, 'colsample_bytree': 0.5},\n",
       "  mean: 0.87362, std: 0.02844, params: {'subsample': 0.9, 'colsample_bytree': 0.5},\n",
       "  mean: 0.85647, std: 0.02353, params: {'subsample': 0.1, 'colsample_bytree': 0.6},\n",
       "  mean: 0.86891, std: 0.02610, params: {'subsample': 0.2, 'colsample_bytree': 0.6},\n",
       "  mean: 0.86844, std: 0.02592, params: {'subsample': 0.3, 'colsample_bytree': 0.6},\n",
       "  mean: 0.87263, std: 0.02797, params: {'subsample': 0.4, 'colsample_bytree': 0.6},\n",
       "  mean: 0.87513, std: 0.02792, params: {'subsample': 0.5, 'colsample_bytree': 0.6},\n",
       "  mean: 0.87218, std: 0.02599, params: {'subsample': 0.6, 'colsample_bytree': 0.6},\n",
       "  mean: 0.87581, std: 0.02970, params: {'subsample': 0.7, 'colsample_bytree': 0.6},\n",
       "  mean: 0.87663, std: 0.03270, params: {'subsample': 0.8, 'colsample_bytree': 0.6},\n",
       "  mean: 0.87362, std: 0.02844, params: {'subsample': 0.9, 'colsample_bytree': 0.6},\n",
       "  mean: 0.85445, std: 0.01933, params: {'subsample': 0.1, 'colsample_bytree': 0.7},\n",
       "  mean: 0.87063, std: 0.02683, params: {'subsample': 0.2, 'colsample_bytree': 0.7},\n",
       "  mean: 0.86683, std: 0.03049, params: {'subsample': 0.3, 'colsample_bytree': 0.7},\n",
       "  mean: 0.87220, std: 0.02025, params: {'subsample': 0.4, 'colsample_bytree': 0.7},\n",
       "  mean: 0.87210, std: 0.02639, params: {'subsample': 0.5, 'colsample_bytree': 0.7},\n",
       "  mean: 0.87225, std: 0.02955, params: {'subsample': 0.6, 'colsample_bytree': 0.7},\n",
       "  mean: 0.87322, std: 0.03385, params: {'subsample': 0.7, 'colsample_bytree': 0.7},\n",
       "  mean: 0.87833, std: 0.03182, params: {'subsample': 0.8, 'colsample_bytree': 0.7},\n",
       "  mean: 0.87388, std: 0.03302, params: {'subsample': 0.9, 'colsample_bytree': 0.7},\n",
       "  mean: 0.85445, std: 0.01933, params: {'subsample': 0.1, 'colsample_bytree': 0.8},\n",
       "  mean: 0.87063, std: 0.02683, params: {'subsample': 0.2, 'colsample_bytree': 0.8},\n",
       "  mean: 0.86683, std: 0.03049, params: {'subsample': 0.3, 'colsample_bytree': 0.8},\n",
       "  mean: 0.87220, std: 0.02025, params: {'subsample': 0.4, 'colsample_bytree': 0.8},\n",
       "  mean: 0.87210, std: 0.02639, params: {'subsample': 0.5, 'colsample_bytree': 0.8},\n",
       "  mean: 0.87225, std: 0.02955, params: {'subsample': 0.6, 'colsample_bytree': 0.8},\n",
       "  mean: 0.87322, std: 0.03385, params: {'subsample': 0.7, 'colsample_bytree': 0.8},\n",
       "  mean: 0.87833, std: 0.03182, params: {'subsample': 0.8, 'colsample_bytree': 0.8},\n",
       "  mean: 0.87388, std: 0.03302, params: {'subsample': 0.9, 'colsample_bytree': 0.8},\n",
       "  mean: 0.85591, std: 0.02327, params: {'subsample': 0.1, 'colsample_bytree': 0.9},\n",
       "  mean: 0.87086, std: 0.01809, params: {'subsample': 0.2, 'colsample_bytree': 0.9},\n",
       "  mean: 0.86559, std: 0.02734, params: {'subsample': 0.3, 'colsample_bytree': 0.9},\n",
       "  mean: 0.87190, std: 0.02411, params: {'subsample': 0.4, 'colsample_bytree': 0.9},\n",
       "  mean: 0.87311, std: 0.02778, params: {'subsample': 0.5, 'colsample_bytree': 0.9},\n",
       "  mean: 0.87079, std: 0.03013, params: {'subsample': 0.6, 'colsample_bytree': 0.9},\n",
       "  mean: 0.87367, std: 0.03044, params: {'subsample': 0.7, 'colsample_bytree': 0.9},\n",
       "  mean: 0.87466, std: 0.02995, params: {'subsample': 0.8, 'colsample_bytree': 0.9},\n",
       "  mean: 0.86762, std: 0.02688, params: {'subsample': 0.9, 'colsample_bytree': 0.9}],\n",
       " {'colsample_bytree': 0.7, 'subsample': 0.8},\n",
       " 0.878330462583554)"
      ]
     },
     "execution_count": 222,
     "metadata": {},
     "output_type": "execute_result"
    }
   ],
   "source": [
    "param_test4 = {\n",
    " 'subsample':[i/10.0 for i in range(1,10)],\n",
    " 'colsample_bytree':[i/10.0 for i in range(5,10)]\n",
    "}\n",
    "gsearch4 = GridSearchCV(estimator=XGBClassifier(learning_rate=0.12, n_estimators=140, max_depth=5,\n",
    " min_child_weight=1, gamma=0.5, subsample=0.8, colsample_bytree=0.8,\n",
    " objective='binary:logistic', nthread=4, scale_pos_weight=1, seed=27), \n",
    " param_grid=param_test4, scoring='roc_auc', iid=False, cv=5)\n",
    "gsearch4.fit(train[predictors],train[target])\n",
    "gsearch4.grid_scores_, gsearch4.best_params_, gsearch4.best_score_"
   ]
  },
  {
   "cell_type": "code",
   "execution_count": 224,
   "metadata": {
    "collapsed": false
   },
   "outputs": [
    {
     "data": {
      "text/plain": [
       "([mean: 0.87581, std: 0.02970, params: {'subsample': 0.7, 'colsample_bytree': 0.6},\n",
       "  mean: 0.87404, std: 0.02873, params: {'subsample': 0.75, 'colsample_bytree': 0.6},\n",
       "  mean: 0.87663, std: 0.03270, params: {'subsample': 0.8, 'colsample_bytree': 0.6},\n",
       "  mean: 0.87489, std: 0.03076, params: {'subsample': 0.85, 'colsample_bytree': 0.6},\n",
       "  mean: 0.87581, std: 0.02970, params: {'subsample': 0.7, 'colsample_bytree': 0.65},\n",
       "  mean: 0.87404, std: 0.02873, params: {'subsample': 0.75, 'colsample_bytree': 0.65},\n",
       "  mean: 0.87663, std: 0.03270, params: {'subsample': 0.8, 'colsample_bytree': 0.65},\n",
       "  mean: 0.87489, std: 0.03076, params: {'subsample': 0.85, 'colsample_bytree': 0.65},\n",
       "  mean: 0.87322, std: 0.03385, params: {'subsample': 0.7, 'colsample_bytree': 0.7},\n",
       "  mean: 0.87147, std: 0.03269, params: {'subsample': 0.75, 'colsample_bytree': 0.7},\n",
       "  mean: 0.87833, std: 0.03182, params: {'subsample': 0.8, 'colsample_bytree': 0.7},\n",
       "  mean: 0.87321, std: 0.03089, params: {'subsample': 0.85, 'colsample_bytree': 0.7},\n",
       "  mean: 0.87322, std: 0.03385, params: {'subsample': 0.7, 'colsample_bytree': 0.75},\n",
       "  mean: 0.87147, std: 0.03269, params: {'subsample': 0.75, 'colsample_bytree': 0.75},\n",
       "  mean: 0.87833, std: 0.03182, params: {'subsample': 0.8, 'colsample_bytree': 0.75},\n",
       "  mean: 0.87321, std: 0.03089, params: {'subsample': 0.85, 'colsample_bytree': 0.75}],\n",
       " {'colsample_bytree': 0.7, 'subsample': 0.8},\n",
       " 0.878330462583554)"
      ]
     },
     "execution_count": 224,
     "metadata": {},
     "output_type": "execute_result"
    }
   ],
   "source": [
    "param_test5 = {\n",
    " 'subsample':[i/100.0 for i in range(70, 90, 5)],\n",
    " 'colsample_bytree':[i/100.0 for i in range(60, 80, 5)]\n",
    "}\n",
    "gsearch5 = GridSearchCV(estimator=XGBClassifier(learning_rate=0.12, n_estimators=140, max_depth=5,\n",
    " min_child_weight=1, gamma=0.5, subsample=0.8, colsample_bytree=0.8,\n",
    " objective='binary:logistic', nthread=4, scale_pos_weight=1, seed=27), \n",
    " param_grid=param_test5, scoring='roc_auc', iid=False, cv=5)\n",
    "gsearch5.fit(train[predictors],train[target])\n",
    "gsearch5.grid_scores_, gsearch5.best_params_, gsearch5.best_score_"
   ]
  },
  {
   "cell_type": "code",
   "execution_count": 225,
   "metadata": {
    "collapsed": false
   },
   "outputs": [
    {
     "name": "stdout",
     "output_type": "stream",
     "text": [
      "\n",
      "Model Report\n",
      "Accuracy : 0.9012\n",
      "AUC Score (Train): 0.960486\n"
     ]
    },
    {
     "data": {
      "image/png": "[encoded data removed]",
      "text/plain": [
       "<matplotlib.figure.Figure at 0x111a7e290>"
      ]
     },
     "metadata": {},
     "output_type": "display_data"
    }
   ],
   "source": [
    "xgb3 = XGBClassifier(\n",
    " learning_rate=0.12,\n",
    " n_estimators=1000,\n",
    " max_depth=5,\n",
    " min_child_weight=1,\n",
    " gamma=0.5,\n",
    " subsample=0.8,\n",
    " colsample_bytree=0.7,\n",
    " objective='binary:logistic',\n",
    " nthread=4,\n",
    " scale_pos_weight=1,\n",
    " seed=27)\n",
    "modelfit(xgb3, train, predictors, target)"
   ]
  },
  {
   "cell_type": "code",
   "execution_count": 226,
   "metadata": {
    "collapsed": false
   },
   "outputs": [
    {
     "data": {
      "text/plain": [
       "([mean: 0.87833, std: 0.03182, params: {'reg_alpha': 1e-05},\n",
       "  mean: 0.87366, std: 0.03224, params: {'reg_alpha': 0.01},\n",
       "  mean: 0.87701, std: 0.03171, params: {'reg_alpha': 0.1},\n",
       "  mean: 0.87455, std: 0.02881, params: {'reg_alpha': 1},\n",
       "  mean: 0.78473, std: 0.03292, params: {'reg_alpha': 100}],\n",
       " {'reg_alpha': 1e-05},\n",
       " 0.878330462583554)"
      ]
     },
     "execution_count": 226,
     "metadata": {},
     "output_type": "execute_result"
    }
   ],
   "source": [
    "param_test6 = {\n",
    " 'reg_alpha':[1e-5, 1e-2, 0.1, 1, 100]\n",
    "}\n",
    "gsearch6 = GridSearchCV(estimator=XGBClassifier(learning_rate=0.12, n_estimators=140, max_depth=5,\n",
    " min_child_weight=1, gamma=0.5, subsample=0.8, colsample_bytree=0.7,\n",
    " objective='binary:logistic', nthread=4, scale_pos_weight=1, seed=27), \n",
    " param_grid=param_test6, scoring='roc_auc', iid=False, cv=5)\n",
    "gsearch6.fit(train[predictors],train[target])\n",
    "gsearch6.grid_scores_, gsearch6.best_params_, gsearch6.best_score_"
   ]
  },
  {
   "cell_type": "code",
   "execution_count": 227,
   "metadata": {
    "collapsed": false
   },
   "outputs": [
    {
     "name": "stdout",
     "output_type": "stream",
     "text": [
      "\n",
      "Model Report\n",
      "Accuracy : 0.9012\n",
      "AUC Score (Train): 0.960486\n"
     ]
    },
    {
     "data": {
      "image/png": "[encoded data removed]",
      "text/plain": [
       "<matplotlib.figure.Figure at 0x1121fa390>"
      ]
     },
     "metadata": {},
     "output_type": "display_data"
    }
   ],
   "source": [
    "xgb4 = XGBClassifier(\n",
    " learning_rate=0.12,\n",
    " n_estimators=1000,\n",
    " max_depth=5,\n",
    " min_child_weight=1,\n",
    " gamma=0.5,\n",
    " subsample=0.8,\n",
    " colsample_bytree=0.7,\n",
    " reg_alpha=1e-5,\n",
    " objective='binary:logistic',\n",
    " nthread=4,\n",
    " scale_pos_weight=1,\n",
    " seed=27)\n",
    "modelfit(xgb4, train, predictors, target)"
   ]
  },
  {
   "cell_type": "code",
   "execution_count": 233,
   "metadata": {
    "collapsed": false
   },
   "outputs": [
    {
     "data": {
      "text/plain": [
       "PassengerId\n",
       "892    0\n",
       "893    0\n",
       "894    0\n",
       "895    0\n",
       "896    1\n",
       "Name: Survived, dtype: int64"
      ]
     },
     "execution_count": 233,
     "metadata": {},
     "output_type": "execute_result"
    }
   ],
   "source": [
    "test['Survived'] = xgb4.predict(test[predictors])\n",
    "test = test.set_index('PassengerId')\n",
    "test = test['Survived']\n",
    "test.head()"
   ]
  },
  {
   "cell_type": "code",
   "execution_count": 234,
   "metadata": {
    "collapsed": false
   },
   "outputs": [],
   "source": [
    "test.to_csv('data/submission_1.csv', header=True, index_label='PassengerId')"
   ]
  },
  {
   "cell_type": "code",
   "execution_count": null,
   "metadata": {
    "collapsed": true
   },
   "outputs": [],
   "source": []
  }
 ],
 "metadata": {
  "anaconda-cloud": {},
  "kernelspec": {
   "display_name": "Python [conda env:python2]",
   "language": "python",
   "name": "conda-env-python2-py"
  },
  "language_info": {
   "codemirror_mode": {
    "name": "ipython",
    "version": 2
   },
   "file_extension": ".py",
   "mimetype": "text/x-python",
   "name": "python",
   "nbconvert_exporter": "python",
   "pygments_lexer": "ipython2",
   "version": "2.7.13"
  }
 },
 "nbformat": 4,
 "nbformat_minor": 1
}
